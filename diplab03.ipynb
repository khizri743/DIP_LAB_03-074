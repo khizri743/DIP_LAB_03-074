{
 "cells": [
  {
   "cell_type": "markdown",
   "id": "7ecc3e36",
   "metadata": {},
   "source": [
    "KHIZAR MEHMOOD 01-134212-074"
   ]
  },
  {
   "cell_type": "markdown",
   "id": "63b2b308",
   "metadata": {},
   "source": [
    "TASK: 01"
   ]
  },
  {
   "cell_type": "code",
   "execution_count": 1,
   "id": "887bed9c-a454-4a5e-905e-659a9511382d",
   "metadata": {},
   "outputs": [
    {
     "name": "stdout",
     "output_type": "stream",
     "text": [
      "Size: 305114\n",
      "Date: 02-10-2024\n",
      "Coding Type: uint8\n",
      "Bit Depth: 24\n",
      "Height: 1354\n",
      "Width: 1799\n",
      "Channels: 3\n",
      "If you convert a double having values outside the range [0 255], values exceeding 255 will be lost and set to 255.\n"
     ]
    }
   ],
   "source": [
    "import cv2\n",
    "import numpy as np\n",
    "import os\n",
    "import datetime as dt\n",
    "from PIL import Image\n",
    "\n",
    "img_path = \"pic.webp\"\n",
    "\n",
    "pil_img = Image.open(img_path)\n",
    "img = cv2.imread(img_path)\n",
    "\n",
    "size = os.path.getsize(img_path)\n",
    "\n",
    "date = os.path.getmtime(img_path)\n",
    "date_readable = dt.datetime.fromtimestamp(date).strftime('%d-%m-%Y')\n",
    "\n",
    "coding = np.asarray(img)\n",
    "\n",
    "bit_depth = len(pil_img.mode)*8\n",
    "\n",
    "height, width, channels = img.shape\n",
    "\n",
    "print(f\"Size: {size}\\nDate: {date_readable}\\nCoding Type: {coding.dtype}\\nBit Depth: {bit_depth}\\nHeight: {height}\\nWidth: {width}\\nChannels: {channels}\")\n",
    "print(\"If you convert a double having values outside the range [0 255], values exceeding 255 will be lost and set to 255.\")"
   ]
  },
  {
   "cell_type": "markdown",
   "id": "5aaaf004",
   "metadata": {},
   "source": [
    "TASK: 02"
   ]
  },
  {
   "cell_type": "code",
   "execution_count": 2,
   "id": "c9668f8e",
   "metadata": {},
   "outputs": [],
   "source": [
    "img = cv2.imread(img_path)  # 0 flag loads the image as grayscale\n",
    "gray_img = cv2.cvtColor(img, cv2.COLOR_BGR2GRAY)\n",
    "\n",
    "x, binary_img = cv2.threshold(gray_img, 127, 255, cv2.THRESH_BINARY)\n",
    "    \n",
    "cv2.imshow(\"Original Image\", img)\n",
    "cv2.imshow(\"Binarized Image\", binary_img)\n",
    "\n",
    "cv2.waitKey(0)\n",
    "cv2.destroyAllWindows()"
   ]
  },
  {
   "cell_type": "markdown",
   "id": "0fe4e6b1",
   "metadata": {},
   "source": [
    "TASK: 03"
   ]
  },
  {
   "cell_type": "code",
   "execution_count": 3,
   "id": "78fe5855",
   "metadata": {},
   "outputs": [
    {
     "name": "stdout",
     "output_type": "stream",
     "text": [
      "This is a 3 channel Image!\n"
     ]
    }
   ],
   "source": [
    "img  = cv2.imread(img_path)\n",
    "height, width, channels = img.shape\n",
    "if channels == 3:\n",
    "    print(\"This is a 3 channel Image!\")\n",
    "    gray_img = cv2.cvtColor(img, cv2.COLOR_BGR2GRAY)\n",
    "    _, binarized = cv2.threshold(gray_img, 127, 255, cv2.THRESH_BINARY)\n",
    "    cv2.imshow(\"Binarized Image\", binarized)\n",
    "    cv2.waitKey(0)\n",
    "    cv2.destroyAllWindows()\n",
    "else:\n",
    "    print(\"This is a 1 channel Image!\")\n",
    "    cv2.imshow(\"Single Channel Image\", img)\n",
    "    cv2.waitKey(0)\n",
    "    cv2.destroyAllWindows()\n"
   ]
  },
  {
   "cell_type": "markdown",
   "id": "72ec97ab",
   "metadata": {},
   "source": [
    "TASK: 04"
   ]
  },
  {
   "cell_type": "code",
   "execution_count": 4,
   "id": "3386c7ec",
   "metadata": {},
   "outputs": [],
   "source": [
    "gray_img = cv2.imread(\"pic.webp\", 0) # Directly Loads GrayScaled Image\n",
    "\n",
    "height, width = gray_img.shape\n",
    "\n",
    "bin_img = np.zeros((height, width), dtype= np.uint8)\n",
    "\n",
    "threshold = 127\n",
    "\n",
    "for y in range(height):\n",
    "    for x in range(width):\n",
    "        if gray_img[y][x] >= threshold:\n",
    "            bin_img[y][x] = 255\n",
    "        else:\n",
    "            bin_img[y][x] = 0\n",
    "\n",
    "cv2.imshow(\"Binarized Image\", bin_img)\n",
    "cv2.waitKey(0)\n",
    "cv2.destroyAllWindows()"
   ]
  },
  {
   "cell_type": "markdown",
   "id": "99aa6900",
   "metadata": {},
   "source": [
    "TASK: 05"
   ]
  },
  {
   "cell_type": "code",
   "execution_count": 5,
   "id": "1b5cbf34",
   "metadata": {},
   "outputs": [
    {
     "name": "stdout",
     "output_type": "stream",
     "text": [
      "Can't receive frame (stream end?). Exiting ...\n"
     ]
    }
   ],
   "source": [
    "import numpy as np\n",
    "import cv2\n",
    "\n",
    "cap = cv2.VideoCapture('video.mov')\n",
    " \n",
    "while cap.isOpened():\n",
    "    ret, frame = cap.read()\n",
    " \n",
    "    if not ret:\n",
    "        print(\"Can't receive frame (stream end?). Exiting ...\")\n",
    "        break\n",
    "    gray = cv2.cvtColor(frame, cv2.COLOR_BGR2GRAY)\n",
    " \n",
    "    cv2.imshow('frame', gray)\n",
    "    if cv2.waitKey(3) == ord('q'):\n",
    "        break\n",
    " \n",
    "cap.release()\n",
    "cv2.destroyAllWindows()"
   ]
  }
 ],
 "metadata": {
  "kernelspec": {
   "display_name": "Python 3 (ipykernel)",
   "language": "python",
   "name": "python3"
  },
  "language_info": {
   "codemirror_mode": {
    "name": "ipython",
    "version": 3
   },
   "file_extension": ".py",
   "mimetype": "text/x-python",
   "name": "python",
   "nbconvert_exporter": "python",
   "pygments_lexer": "ipython3",
   "version": "3.12.6"
  }
 },
 "nbformat": 4,
 "nbformat_minor": 5
}
